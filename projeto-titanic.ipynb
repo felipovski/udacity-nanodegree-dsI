{
 "cells": [
  {
   "cell_type": "markdown",
   "metadata": {},
   "source": [
    "### Análise de um dataset com dados do Titanic para conclusão do curso de Data Science I da Udacity"
   ]
  },
  {
   "cell_type": "markdown",
   "metadata": {},
   "source": [
    "O presente projeto visa a responder à seguinte pergunta: Crianças e mulheres foram priorizados durante o desastre do Titanic? Para responder a essa pergunta principal, passamos por uma série de questões acessórias, mas de igual valor analítico. \n",
    "Para iniciar nossa análise, então, primeiramente importamos as bibliotecas a serem utilizadas e carregamos nosso dataframe:"
   ]
  },
  {
   "cell_type": "code",
   "execution_count": 1,
   "metadata": {},
   "outputs": [],
   "source": [
    "import pandas as pd\n",
    "import numpy as np\n",
    "import matplotlib.pyplot as plt\n",
    "import seaborn as sns; sns.set()\n",
    "\n",
    "df = pd.read_csv('titanic-data-6.csv')"
   ]
  },
  {
   "cell_type": "markdown",
   "metadata": {},
   "source": [
    "#### Limpieza de Dados"
   ]
  },
  {
   "cell_type": "markdown",
   "metadata": {},
   "source": [
    "Esse dataframe se refere a dados de passageiros do Titanic, tais como a classe em que estavam, sexo, idade, porto de embarque, etc. Assim, todas as perguntas que pretendemos responder se relacionam ao cruzamento de informações apresentadas pelos dados ali presentes. Para que possamos entender a estrutura do arquivo, tais como linhas e colunas, nomes das colunas, dentre outros dados relevantes, vamos começar nossa exploração e possíveis limpezas de dados:"
   ]
  },
  {
   "cell_type": "code",
   "execution_count": 2,
   "metadata": {},
   "outputs": [
    {
     "name": "stdout",
     "output_type": "stream",
     "text": [
      "\n",
      "Nosso dataframe possui 891 linhas e 12 colunas. A tabela pode ser visualizada abaixo:\n"
     ]
    },
    {
     "data": {
      "text/html": [
       "<div>\n",
       "<style scoped>\n",
       "    .dataframe tbody tr th:only-of-type {\n",
       "        vertical-align: middle;\n",
       "    }\n",
       "\n",
       "    .dataframe tbody tr th {\n",
       "        vertical-align: top;\n",
       "    }\n",
       "\n",
       "    .dataframe thead th {\n",
       "        text-align: right;\n",
       "    }\n",
       "</style>\n",
       "<table border=\"1\" class=\"dataframe\">\n",
       "  <thead>\n",
       "    <tr style=\"text-align: right;\">\n",
       "      <th></th>\n",
       "      <th>PassengerId</th>\n",
       "      <th>Survived</th>\n",
       "      <th>Pclass</th>\n",
       "      <th>Name</th>\n",
       "      <th>Sex</th>\n",
       "      <th>Age</th>\n",
       "      <th>SibSp</th>\n",
       "      <th>Parch</th>\n",
       "      <th>Ticket</th>\n",
       "      <th>Fare</th>\n",
       "      <th>Cabin</th>\n",
       "      <th>Embarked</th>\n",
       "    </tr>\n",
       "  </thead>\n",
       "  <tbody>\n",
       "    <tr>\n",
       "      <th>0</th>\n",
       "      <td>1</td>\n",
       "      <td>0</td>\n",
       "      <td>3</td>\n",
       "      <td>Braund, Mr. Owen Harris</td>\n",
       "      <td>male</td>\n",
       "      <td>22.0</td>\n",
       "      <td>1</td>\n",
       "      <td>0</td>\n",
       "      <td>A/5 21171</td>\n",
       "      <td>7.2500</td>\n",
       "      <td>NaN</td>\n",
       "      <td>S</td>\n",
       "    </tr>\n",
       "    <tr>\n",
       "      <th>1</th>\n",
       "      <td>2</td>\n",
       "      <td>1</td>\n",
       "      <td>1</td>\n",
       "      <td>Cumings, Mrs. John Bradley (Florence Briggs Th...</td>\n",
       "      <td>female</td>\n",
       "      <td>38.0</td>\n",
       "      <td>1</td>\n",
       "      <td>0</td>\n",
       "      <td>PC 17599</td>\n",
       "      <td>71.2833</td>\n",
       "      <td>C85</td>\n",
       "      <td>C</td>\n",
       "    </tr>\n",
       "    <tr>\n",
       "      <th>2</th>\n",
       "      <td>3</td>\n",
       "      <td>1</td>\n",
       "      <td>3</td>\n",
       "      <td>Heikkinen, Miss. Laina</td>\n",
       "      <td>female</td>\n",
       "      <td>26.0</td>\n",
       "      <td>0</td>\n",
       "      <td>0</td>\n",
       "      <td>STON/O2. 3101282</td>\n",
       "      <td>7.9250</td>\n",
       "      <td>NaN</td>\n",
       "      <td>S</td>\n",
       "    </tr>\n",
       "    <tr>\n",
       "      <th>3</th>\n",
       "      <td>4</td>\n",
       "      <td>1</td>\n",
       "      <td>1</td>\n",
       "      <td>Futrelle, Mrs. Jacques Heath (Lily May Peel)</td>\n",
       "      <td>female</td>\n",
       "      <td>35.0</td>\n",
       "      <td>1</td>\n",
       "      <td>0</td>\n",
       "      <td>113803</td>\n",
       "      <td>53.1000</td>\n",
       "      <td>C123</td>\n",
       "      <td>S</td>\n",
       "    </tr>\n",
       "    <tr>\n",
       "      <th>4</th>\n",
       "      <td>5</td>\n",
       "      <td>0</td>\n",
       "      <td>3</td>\n",
       "      <td>Allen, Mr. William Henry</td>\n",
       "      <td>male</td>\n",
       "      <td>35.0</td>\n",
       "      <td>0</td>\n",
       "      <td>0</td>\n",
       "      <td>373450</td>\n",
       "      <td>8.0500</td>\n",
       "      <td>NaN</td>\n",
       "      <td>S</td>\n",
       "    </tr>\n",
       "  </tbody>\n",
       "</table>\n",
       "</div>"
      ],
      "text/plain": [
       "   PassengerId  Survived  Pclass  \\\n",
       "0            1         0       3   \n",
       "1            2         1       1   \n",
       "2            3         1       3   \n",
       "3            4         1       1   \n",
       "4            5         0       3   \n",
       "\n",
       "                                                Name     Sex   Age  SibSp  \\\n",
       "0                            Braund, Mr. Owen Harris    male  22.0      1   \n",
       "1  Cumings, Mrs. John Bradley (Florence Briggs Th...  female  38.0      1   \n",
       "2                             Heikkinen, Miss. Laina  female  26.0      0   \n",
       "3       Futrelle, Mrs. Jacques Heath (Lily May Peel)  female  35.0      1   \n",
       "4                           Allen, Mr. William Henry    male  35.0      0   \n",
       "\n",
       "   Parch            Ticket     Fare Cabin Embarked  \n",
       "0      0         A/5 21171   7.2500   NaN        S  \n",
       "1      0          PC 17599  71.2833   C85        C  \n",
       "2      0  STON/O2. 3101282   7.9250   NaN        S  \n",
       "3      0            113803  53.1000  C123        S  \n",
       "4      0            373450   8.0500   NaN        S  "
      ]
     },
     "execution_count": 2,
     "metadata": {},
     "output_type": "execute_result"
    }
   ],
   "source": [
    "print('\\nNosso dataframe possui {} linhas e {} colunas. A tabela pode ser visualizada abaixo:'\n",
    "      .format(df.shape[0], df.shape[1]))\n",
    "df.head()"
   ]
  },
  {
   "cell_type": "markdown",
   "metadata": {},
   "source": [
    "Conforme vê-se acima, nossas colunas (e seus respectivos índices) são as seguintes:"
   ]
  },
  {
   "cell_type": "code",
   "execution_count": 3,
   "metadata": {},
   "outputs": [
    {
     "name": "stdout",
     "output_type": "stream",
     "text": [
      "0\tPassengerId\n",
      "1\tSurvived\n",
      "2\tPclass\n",
      "3\tName\n",
      "4\tSex\n",
      "5\tAge\n",
      "6\tSibSp\n",
      "7\tParch\n",
      "8\tTicket\n",
      "9\tFare\n",
      "10\tCabin\n",
      "11\tEmbarked\n"
     ]
    }
   ],
   "source": [
    "for i, column in enumerate(df.columns):\n",
    "    print(i, column, sep='\\t')"
   ]
  },
  {
   "cell_type": "markdown",
   "metadata": {},
   "source": [
    "Antes de iniciarmos qualquer análise, faz-se importante também saber quais são os tipos de dados presentes nas colunas e se existem informações faltantes: "
   ]
  },
  {
   "cell_type": "code",
   "execution_count": 4,
   "metadata": {},
   "outputs": [
    {
     "name": "stdout",
     "output_type": "stream",
     "text": [
      "<class 'pandas.core.frame.DataFrame'>\n",
      "RangeIndex: 891 entries, 0 to 890\n",
      "Data columns (total 12 columns):\n",
      "PassengerId    891 non-null int64\n",
      "Survived       891 non-null int64\n",
      "Pclass         891 non-null int64\n",
      "Name           891 non-null object\n",
      "Sex            891 non-null object\n",
      "Age            714 non-null float64\n",
      "SibSp          891 non-null int64\n",
      "Parch          891 non-null int64\n",
      "Ticket         891 non-null object\n",
      "Fare           891 non-null float64\n",
      "Cabin          204 non-null object\n",
      "Embarked       889 non-null object\n",
      "dtypes: float64(2), int64(5), object(5)\n",
      "memory usage: 83.6+ KB\n"
     ]
    }
   ],
   "source": [
    "df.info()"
   ]
  },
  {
   "cell_type": "markdown",
   "metadata": {},
   "source": [
    "Percebemos, acima, que nas colunas 'Age', 'Cabin' e 'Embarked' faltam alguns valores. Para resolver este problema, precisamos saber o que cada coluna representa e quais seus tipos de dados: \n",
    "- 'Age' se refere às idades dos passageiros, sendo do tipo float; \n",
    "- 'Cabin' se refere ao tipo de cabine, e aparentemente é um string (o que confirmaremos abaixo);\n",
    "- 'Embarked' se refere aos portos de entrada de cada passageiro (string, conforme abaixo)."
   ]
  },
  {
   "cell_type": "code",
   "execution_count": 5,
   "metadata": {},
   "outputs": [
    {
     "name": "stdout",
     "output_type": "stream",
     "text": [
      "\n",
      "O tipo de dado da coluna \"Embarked\" é <class 'str'> e de \"Cabin\" é <class 'str'>.\n",
      "\n"
     ]
    }
   ],
   "source": [
    "print('\\nO tipo de dado da coluna \"Embarked\" é {} e de \"Cabin\" é {}.\\n'\n",
    "      .format(type(df['Embarked'].unique()[0]), type(df['Cabin'].unique()[1])))"
   ]
  },
  {
   "cell_type": "markdown",
   "metadata": {},
   "source": [
    "Em posse desses dados básicos, surge uma primeira dúvida: quantas passageiros estavam no navio e em quais classes?"
   ]
  },
  {
   "cell_type": "code",
   "execution_count": 6,
   "metadata": {},
   "outputs": [
    {
     "name": "stdout",
     "output_type": "stream",
     "text": [
      "\n",
      "Quantidade total: 891 passageiros.\n",
      "\n",
      "Quantidade de passageiros: \n",
      "\n",
      "- 1ª classe: 216; \n",
      "- 2ª classe: 184; \n",
      "- 3ª classe: 491.\n",
      "\n"
     ]
    },
    {
     "data": {
      "image/png": "[encoded data removed]",
      "text/plain": [
       "<Figure size 432x288 with 1 Axes>"
      ]
     },
     "metadata": {},
     "output_type": "display_data"
    }
   ],
   "source": [
    "passageiros_total = df.shape[0]\n",
    "qtd_primeira = df[ (df['Pclass'] == 1) ].shape[0]\n",
    "qtd_segunda = df[ (df['Pclass'] == 2) ].shape[0]\n",
    "qtd_terceira = df[ (df['Pclass'] == 3) ].shape[0]\n",
    "\n",
    "print('\\nQuantidade total: {} passageiros.'.format(passageiros_total))\n",
    "print('\\nQuantidade de passageiros: \\n\\n- 1ª classe: {}; \\n- 2ª classe: {}; \\n- 3ª classe: {}.\\n'\n",
    "      .format( qtd_primeira, qtd_segunda, qtd_terceira) )\n",
    "\n",
    "classes = [1, 2, 3]\n",
    "heights = [qtd_primeira, qtd_segunda, qtd_terceira]\n",
    "labels = ['1ª', '2ª', '3ª']\n",
    "plt.bar(classes, heights, tick_label=labels)\n",
    "plt.title('Qtd de passageiros por classe')\n",
    "plt.xlabel('Classes')\n",
    "plt.ylabel('Quantidade');"
   ]
  },
  {
   "cell_type": "markdown",
   "metadata": {},
   "source": [
    "Como se percebe, a quantidade de passageiros na terceira classe é superior às outras classes."
   ]
  },
  {
   "cell_type": "markdown",
   "metadata": {},
   "source": [
    "E quanto à média de idade por classe? Para responder a essa questão, precisamos preencher os campos nulos da coluna 'Age', o que faremos com o valor médio da idade de cada passageiro, da seguinte forma:"
   ]
  },
  {
   "cell_type": "code",
   "execution_count": 7,
   "metadata": {
    "scrolled": true
   },
   "outputs": [
    {
     "name": "stdout",
     "output_type": "stream",
     "text": [
      "\n",
      "Idade média de todos os passageiros: 29.7 anos.\n"
     ]
    }
   ],
   "source": [
    "df['Age'].fillna(df['Age'].mean(), inplace=True)\n",
    "\n",
    "print('\\nIdade média de todos os passageiros: {} anos.'.format(round(df['Age'].mean(), 2)))"
   ]
  },
  {
   "cell_type": "markdown",
   "metadata": {},
   "source": [
    "Com os dados de 'Age' completos e nossa limpeza de dados concluída, podemos, agora, verificar a idade média de acordo com a classe: "
   ]
  },
  {
   "cell_type": "code",
   "execution_count": 8,
   "metadata": {},
   "outputs": [
    {
     "name": "stdout",
     "output_type": "stream",
     "text": [
      "\n",
      "Idade média por classe:\n",
      " \n",
      "-1ª classe: 37.04811819172115 anos;\n",
      "-2ª classe: 29.8669581202046 anos;\n",
      "-3ª classe: 26.403258655804464 anos.\n",
      "\n"
     ]
    }
   ],
   "source": [
    "df_idade_media = df.groupby([\"Pclass\"]).mean()[\"Age\"]\n",
    "print('\\nIdade média por classe:\\n \\n-1ª classe: {} anos;\\n-2ª classe: {} anos;\\n-3ª classe: {} anos.\\n'\n",
    "      .format(df_idade_media[1], df_idade_media[2], df_idade_media[3]))"
   ]
  },
  {
   "cell_type": "markdown",
   "metadata": {},
   "source": [
    "Além do dado de idade média por classe acima, vejamos também o gráfico com distribuição de passageiros por idade:"
   ]
  },
  {
   "cell_type": "code",
   "execution_count": 9,
   "metadata": {},
   "outputs": [
    {
     "data": {
      "image/png": "[encoded data removed]",
      "text/plain": [
       "<Figure size 432x288 with 1 Axes>"
      ]
     },
     "metadata": {},
     "output_type": "display_data"
    }
   ],
   "source": [
    "df_idades = df['Age']\n",
    "plt.hist(df_idades)\n",
    "plt.title('Distribuição de passageiros por idade ')\n",
    "plt.xlabel('Idade (anos)')\n",
    "plt.ylabel('Quantidade');"
   ]
  },
  {
   "cell_type": "markdown",
   "metadata": {},
   "source": [
    "Percebemos que este gráfico de idades tem uma distribuição à direita, com as maiores frequências presentes entre 20 e 30 anos. Para auxiliar nossa visualização, vamos separar as idades por faixa etária, da seguinte forma: \n",
    "- Crianças (0-14)\n",
    "- Jovens (15-29)\n",
    "- Adultos (30-59)\n",
    "- Idosos (acima de 60)\n"
   ]
  },
  {
   "cell_type": "code",
   "execution_count": 10,
   "metadata": {},
   "outputs": [
    {
     "name": "stderr",
     "output_type": "stream",
     "text": [
      "/home/felipe/anaconda3/lib/python3.6/site-packages/ipykernel_launcher.py:14: SettingWithCopyWarning: \n",
      "A value is trying to be set on a copy of a slice from a DataFrame.\n",
      "Try using .loc[row_indexer,col_indexer] = value instead\n",
      "\n",
      "See the caveats in the documentation: http://pandas.pydata.org/pandas-docs/stable/indexing.html#indexing-view-versus-copy\n",
      "  \n",
      "/home/felipe/anaconda3/lib/python3.6/site-packages/ipykernel_launcher.py:15: SettingWithCopyWarning: \n",
      "A value is trying to be set on a copy of a slice from a DataFrame.\n",
      "Try using .loc[row_indexer,col_indexer] = value instead\n",
      "\n",
      "See the caveats in the documentation: http://pandas.pydata.org/pandas-docs/stable/indexing.html#indexing-view-versus-copy\n",
      "  from ipykernel import kernelapp as app\n",
      "/home/felipe/anaconda3/lib/python3.6/site-packages/ipykernel_launcher.py:16: SettingWithCopyWarning: \n",
      "A value is trying to be set on a copy of a slice from a DataFrame.\n",
      "Try using .loc[row_indexer,col_indexer] = value instead\n",
      "\n",
      "See the caveats in the documentation: http://pandas.pydata.org/pandas-docs/stable/indexing.html#indexing-view-versus-copy\n",
      "  app.launch_new_instance()\n",
      "/home/felipe/anaconda3/lib/python3.6/site-packages/ipykernel_launcher.py:17: SettingWithCopyWarning: \n",
      "A value is trying to be set on a copy of a slice from a DataFrame.\n",
      "Try using .loc[row_indexer,col_indexer] = value instead\n",
      "\n",
      "See the caveats in the documentation: http://pandas.pydata.org/pandas-docs/stable/indexing.html#indexing-view-versus-copy\n"
     ]
    }
   ],
   "source": [
    "# Criando dataframes de acordo com faixa etária\n",
    "df_criancas = df.query('Age < 15')\n",
    "df_jovens = df.query('15 <= Age < 30')\n",
    "df_adultos = df.query('30 <= Age < 60')\n",
    "df_idosos = df.query('Age >= 60')\n",
    "\n",
    "# Criando arrays de acordo com tamanho e tipo de faixa etária\n",
    "crianca = np.repeat(\"child\", df_criancas.shape[0])\n",
    "jovem = np.repeat(\"teen\", df_jovens.shape[0])\n",
    "adulto = np.repeat(\"adult\", df_adultos.shape[0])\n",
    "idoso = np.repeat(\"elder\", df_idosos.shape[0])\n",
    "\n",
    "# Criando nova coluna para adicionar os arrays aos dataframes\n",
    "df_criancas['Age_range'] = crianca\n",
    "df_jovens['Age_range'] = jovem\n",
    "df_adultos['Age_range'] = adulto\n",
    "df_idosos['Age_range'] = idoso\n",
    "\n",
    "# Formando um único dataframe\n",
    "df_edited = df_criancas.append([df_jovens, df_adultos, df_idosos])\n",
    "df_edited = df_edited.iloc[:, np.r_[0:6, 12, 6:12]]"
   ]
  },
  {
   "cell_type": "code",
   "execution_count": 11,
   "metadata": {},
   "outputs": [
    {
     "name": "stdout",
     "output_type": "stream",
     "text": [
      "\n",
      "Quantidade de passageiros por faixa etária:\n",
      "\n",
      "Crianças: \t78\n",
      "Jovens: \t483\n",
      "Adultos: \t304\n",
      "Idosos: \t26\n",
      "\n"
     ]
    },
    {
     "data": {
      "text/plain": [
       "Text(0.5,1,'Qtd de passageiros por faixa etária')"
      ]
     },
     "execution_count": 11,
     "metadata": {},
     "output_type": "execute_result"
    },
    {
     "data": {
      "image/png": "[encoded data removed]",
      "text/plain": [
       "<Figure size 432x288 with 1 Axes>"
      ]
     },
     "metadata": {},
     "output_type": "display_data"
    }
   ],
   "source": [
    "print('\\nQuantidade de passageiros por faixa etária:\\n\\nCrianças: \\t{}\\nJovens: \\t{}\\nAdultos: \\t{}\\nIdosos: \\t{}\\n'.\n",
    "     format(df_criancas.shape[0], df_jovens.shape[0], df_adultos.shape[0], df_idosos.shape[0]))\n",
    "\n",
    "heights = [len(crianca), len(jovem), len(adulto), len(idoso)]\n",
    "labels = ['Crianças', 'Jovens', 'Adultos', 'Idosos']\n",
    "plt.pie(heights, labels=labels)\n",
    "plt.title('Qtd de passageiros por faixa etária')"
   ]
  },
  {
   "cell_type": "markdown",
   "metadata": {},
   "source": [
    "Para poder agrupar os passageiros por idade, criamos uma nova coluna em nosso dataframe, 'Age_range'. Assim, ele agora apresenta um total de 13 colunas, com 'Age_range' estando em consonância com a faixa etária apresentada na coluna 'Age' (vide tabela abaixo):"
   ]
  },
  {
   "cell_type": "code",
   "execution_count": 12,
   "metadata": {},
   "outputs": [
    {
     "data": {
      "text/html": [
       "<div>\n",
       "<style scoped>\n",
       "    .dataframe tbody tr th:only-of-type {\n",
       "        vertical-align: middle;\n",
       "    }\n",
       "\n",
       "    .dataframe tbody tr th {\n",
       "        vertical-align: top;\n",
       "    }\n",
       "\n",
       "    .dataframe thead th {\n",
       "        text-align: right;\n",
       "    }\n",
       "</style>\n",
       "<table border=\"1\" class=\"dataframe\">\n",
       "  <thead>\n",
       "    <tr style=\"text-align: right;\">\n",
       "      <th></th>\n",
       "      <th>PassengerId</th>\n",
       "      <th>Survived</th>\n",
       "      <th>Pclass</th>\n",
       "      <th>Name</th>\n",
       "      <th>Sex</th>\n",
       "      <th>Age</th>\n",
       "      <th>Age_range</th>\n",
       "      <th>SibSp</th>\n",
       "      <th>Parch</th>\n",
       "      <th>Ticket</th>\n",
       "      <th>Fare</th>\n",
       "      <th>Cabin</th>\n",
       "      <th>Embarked</th>\n",
       "    </tr>\n",
       "  </thead>\n",
       "  <tbody>\n",
       "    <tr>\n",
       "      <th>7</th>\n",
       "      <td>8</td>\n",
       "      <td>0</td>\n",
       "      <td>3</td>\n",
       "      <td>Palsson, Master. Gosta Leonard</td>\n",
       "      <td>male</td>\n",
       "      <td>2.0</td>\n",
       "      <td>child</td>\n",
       "      <td>3</td>\n",
       "      <td>1</td>\n",
       "      <td>349909</td>\n",
       "      <td>21.0750</td>\n",
       "      <td>NaN</td>\n",
       "      <td>S</td>\n",
       "    </tr>\n",
       "    <tr>\n",
       "      <th>9</th>\n",
       "      <td>10</td>\n",
       "      <td>1</td>\n",
       "      <td>2</td>\n",
       "      <td>Nasser, Mrs. Nicholas (Adele Achem)</td>\n",
       "      <td>female</td>\n",
       "      <td>14.0</td>\n",
       "      <td>child</td>\n",
       "      <td>1</td>\n",
       "      <td>0</td>\n",
       "      <td>237736</td>\n",
       "      <td>30.0708</td>\n",
       "      <td>NaN</td>\n",
       "      <td>C</td>\n",
       "    </tr>\n",
       "    <tr>\n",
       "      <th>10</th>\n",
       "      <td>11</td>\n",
       "      <td>1</td>\n",
       "      <td>3</td>\n",
       "      <td>Sandstrom, Miss. Marguerite Rut</td>\n",
       "      <td>female</td>\n",
       "      <td>4.0</td>\n",
       "      <td>child</td>\n",
       "      <td>1</td>\n",
       "      <td>1</td>\n",
       "      <td>PP 9549</td>\n",
       "      <td>16.7000</td>\n",
       "      <td>G6</td>\n",
       "      <td>S</td>\n",
       "    </tr>\n",
       "    <tr>\n",
       "      <th>14</th>\n",
       "      <td>15</td>\n",
       "      <td>0</td>\n",
       "      <td>3</td>\n",
       "      <td>Vestrom, Miss. Hulda Amanda Adolfina</td>\n",
       "      <td>female</td>\n",
       "      <td>14.0</td>\n",
       "      <td>child</td>\n",
       "      <td>0</td>\n",
       "      <td>0</td>\n",
       "      <td>350406</td>\n",
       "      <td>7.8542</td>\n",
       "      <td>NaN</td>\n",
       "      <td>S</td>\n",
       "    </tr>\n",
       "    <tr>\n",
       "      <th>16</th>\n",
       "      <td>17</td>\n",
       "      <td>0</td>\n",
       "      <td>3</td>\n",
       "      <td>Rice, Master. Eugene</td>\n",
       "      <td>male</td>\n",
       "      <td>2.0</td>\n",
       "      <td>child</td>\n",
       "      <td>4</td>\n",
       "      <td>1</td>\n",
       "      <td>382652</td>\n",
       "      <td>29.1250</td>\n",
       "      <td>NaN</td>\n",
       "      <td>Q</td>\n",
       "    </tr>\n",
       "  </tbody>\n",
       "</table>\n",
       "</div>"
      ],
      "text/plain": [
       "    PassengerId  Survived  Pclass                                  Name  \\\n",
       "7             8         0       3        Palsson, Master. Gosta Leonard   \n",
       "9            10         1       2   Nasser, Mrs. Nicholas (Adele Achem)   \n",
       "10           11         1       3       Sandstrom, Miss. Marguerite Rut   \n",
       "14           15         0       3  Vestrom, Miss. Hulda Amanda Adolfina   \n",
       "16           17         0       3                  Rice, Master. Eugene   \n",
       "\n",
       "       Sex   Age Age_range  SibSp  Parch   Ticket     Fare Cabin Embarked  \n",
       "7     male   2.0     child      3      1   349909  21.0750   NaN        S  \n",
       "9   female  14.0     child      1      0   237736  30.0708   NaN        C  \n",
       "10  female   4.0     child      1      1  PP 9549  16.7000    G6        S  \n",
       "14  female  14.0     child      0      0   350406   7.8542   NaN        S  \n",
       "16    male   2.0     child      4      1   382652  29.1250   NaN        Q  "
      ]
     },
     "execution_count": 12,
     "metadata": {},
     "output_type": "execute_result"
    }
   ],
   "source": [
    "df_edited.head()"
   ]
  },
  {
   "cell_type": "markdown",
   "metadata": {},
   "source": [
    "Seria interessante, agora, verificar a porcentagem de passageiros por faixa etária:"
   ]
  },
  {
   "cell_type": "code",
   "execution_count": 13,
   "metadata": {},
   "outputs": [
    {
     "name": "stdout",
     "output_type": "stream",
     "text": [
      "\n",
      "Porcentagem de passageiros por faixa etária:\n",
      "\n",
      "Crianças: \t8.75%\n",
      "Jovens: \t54.21%\n",
      "Adultos: \t34.12%\n",
      "Idosos: \t2.92%\n"
     ]
    },
    {
     "data": {
      "text/plain": [
       "Text(0.5,1,'Porcentagem de passageiros por faixa etária')"
      ]
     },
     "execution_count": 13,
     "metadata": {},
     "output_type": "execute_result"
    },
    {
     "data": {
      "image/png": "[encoded data removed]",
      "text/plain": [
       "<Figure size 432x288 with 1 Axes>"
      ]
     },
     "metadata": {},
     "output_type": "display_data"
    }
   ],
   "source": [
    "def calcula_porcentagem(valor_parcial, valor_total):\n",
    "    \"\"\"\n",
    "          Função que calcula a porcentagem a partir de um valor parcial e um valor total.\n",
    "          Argumentos:\n",
    "              valor_parcial: valor em int ou float .\n",
    "              valor_total: valor em int ou float que representa 100% do que se deseja calcular.\n",
    "          Retorna:\n",
    "              Um valor em int ou float multiplicado por 100 e com duas casas decimais.\n",
    "    \"\"\"\n",
    "    return round(valor_parcial / valor_total * 100, 2)\n",
    "\n",
    "porcent_criancas = calcula_porcentagem(df_criancas.shape[0], passageiros_total)\n",
    "porcent_jovens = calcula_porcentagem(df_jovens.shape[0], passageiros_total)\n",
    "porcent_adultos = calcula_porcentagem(df_adultos.shape[0], passageiros_total)\n",
    "porcent_idosos = calcula_porcentagem(df_idosos.shape[0], passageiros_total)\n",
    "\n",
    "print('\\nPorcentagem de passageiros por faixa etária:\\n\\nCrianças: \\t{}%\\nJovens: \\t{}%\\nAdultos: \\t{}%\\nIdosos: \\t{}%'.\n",
    "     format(porcent_criancas, porcent_jovens, \n",
    "            porcent_adultos, porcent_idosos))\n",
    "\n",
    "heights = [len(crianca), len(jovem), len(adulto), len(idoso)]\n",
    "labels = [porcent_criancas, porcent_jovens, porcent_adultos, porcent_idosos]\n",
    "plt.pie(heights, labels=labels)\n",
    "plt.title('Porcentagem de passageiros por faixa etária')"
   ]
  },
  {
   "cell_type": "markdown",
   "metadata": {},
   "source": [
    "Os jovens (faixa entre 15 e 29 anos) são os mais numerosos, performando quase 55% dos passageiros do Titanic. Mas, afinal, quantas pessoas sobreviveram? E qual a porcentagem de sobreviventes de acordo com classe, idade e sexo?"
   ]
  },
  {
   "cell_type": "code",
   "execution_count": 14,
   "metadata": {},
   "outputs": [
    {
     "name": "stdout",
     "output_type": "stream",
     "text": [
      "\n",
      "Total de sobreviventes: 342 \n",
      "Total de vítimas: 549\n",
      "\n"
     ]
    }
   ],
   "source": [
    "sobreviventes = df_edited.query('Survived == 1')[\"Survived\"].count()\n",
    "vitimas = df_edited.query('Survived == 0')[\"Survived\"].count()\n",
    "print('\\nTotal de sobreviventes: {} \\nTotal de vítimas: {}\\n'\n",
    "      .format(sobreviventes, vitimas) )"
   ]
  },
  {
   "cell_type": "code",
   "execution_count": 15,
   "metadata": {},
   "outputs": [
    {
     "name": "stdout",
     "output_type": "stream",
     "text": [
      "\n",
      "Quantidade de passageiros por classe: \n",
      "\n",
      "Primeira classe: \t216 \n",
      "Segunda classe: \t184 \n",
      "Terceira classe: \t491\n",
      "\n"
     ]
    }
   ],
   "source": [
    "qtd_primeira = df_edited[ (df_edited['Pclass'] == 1) ].shape[0]\n",
    "qtd_segunda = df_edited[ (df_edited['Pclass'] == 2) ].shape[0]\n",
    "qtd_terceira = df_edited[ (df_edited['Pclass'] == 3) ].shape[0]\n",
    "print('\\nQuantidade de passageiros por classe: \\n\\nPrimeira classe: \\t{} \\nSegunda classe: \\t{} \\nTerceira classe: \\t{}\\n'\n",
    "      .format( qtd_primeira, qtd_segunda, qtd_terceira) )"
   ]
  },
  {
   "cell_type": "code",
   "execution_count": 16,
   "metadata": {},
   "outputs": [
    {
     "name": "stdout",
     "output_type": "stream",
     "text": [
      "\n",
      "Quantidade de sobreviventes por classe: \n",
      "\n",
      "Primeira classe: \t136 \n",
      "Segunda classe: \t87 \n",
      "Terceira classe: \t119\n",
      "\n",
      "\n",
      "Porcentagem de sobreviventes por classe: \n",
      "\n",
      "Primeira classe: \t62.96% \n",
      "Segunda classe: \t47.28% \n",
      "Terceira classe: \t24.24%\n",
      "\n"
     ]
    }
   ],
   "source": [
    "total_passageiros = df.shape[0]\n",
    "sobre_primeira = df_edited[ (df_edited['Pclass'] == 1) & (df_edited['Survived'] == 1) ].shape[0]\n",
    "sobre_segunda = df_edited[ (df_edited['Pclass'] == 2) & (df_edited['Survived'] == 1) ].shape[0]\n",
    "sobre_terceira = df_edited[ (df_edited['Pclass'] == 3) & (df_edited['Survived'] == 1) ].shape[0]\n",
    "\n",
    "print('\\nQuantidade de sobreviventes por classe: \\n\\nPrimeira classe: \\t{} \\nSegunda classe: \\t{} \\nTerceira classe: \\t{}\\n'\n",
    "      .format(sobre_primeira, sobre_segunda, sobre_terceira)) \n",
    "print('\\nPorcentagem de sobreviventes por classe: \\n\\nPrimeira classe: \\t{}% \\nSegunda classe: \\t{}% \\nTerceira classe: \\t{}%\\n'\n",
    "      .format(calcula_porcentagem(sobre_primeira, qtd_primeira), \n",
    "              calcula_porcentagem(sobre_segunda,qtd_segunda), \n",
    "              calcula_porcentagem(sobre_terceira, qtd_terceira)))"
   ]
  },
  {
   "cell_type": "code",
   "execution_count": 17,
   "metadata": {},
   "outputs": [
    {
     "name": "stdout",
     "output_type": "stream",
     "text": [
      "\n",
      "Porcentagem de sobreviventes por faixa etária:\n",
      "\n",
      "Crianças: \t57.69%\n",
      "Jovens: \t26.29%\n",
      "Adultos: \t53.62%\n",
      "Idosos: \t26.92%\n",
      "\n"
     ]
    }
   ],
   "source": [
    "sobreviventes_faixa = df_edited[ (df_edited['Survived'] == 1) ].groupby('Age_range').count()['Survived']\n",
    "\n",
    "print('\\nPorcentagem de sobreviventes por faixa etária:\\n\\nCrianças: \\t{}%\\nJovens: \\t{}%\\nAdultos: \\t{}%\\nIdosos: \\t{}%\\n'.\n",
    "     format(calcula_porcentagem(sobreviventes_faixa[1],df_criancas.shape[0]), \n",
    "            calcula_porcentagem(sobreviventes_faixa[0], df_jovens.shape[0]), \n",
    "            calcula_porcentagem(sobreviventes_faixa[3],df_adultos.shape[0]),\n",
    "            calcula_porcentagem(sobreviventes_faixa[2],df_idosos.shape[0])))"
   ]
  },
  {
   "cell_type": "code",
   "execution_count": 18,
   "metadata": {},
   "outputs": [
    {
     "name": "stdout",
     "output_type": "stream",
     "text": [
      "\n",
      "Quantidade de passageiros por sexo: \n",
      "\n",
      "Homens: \t577 \n",
      "Mulheres: \t314\n",
      "\n",
      "\n",
      "Quantidade de sobreviventes por sexo: \n",
      "\n",
      "Homens: \t109 \n",
      "Mulheres: \t233\n",
      "\n",
      "Porcentagem de sobreviventes por sexo:\n",
      "\n",
      "Homens: \t18.89%\n",
      "Mulheres: \t74.2%\n",
      "\n"
     ]
    }
   ],
   "source": [
    "total_homens = df_edited[ (df_edited['Sex'] == 'male') ].shape[0]\n",
    "total_mulheres = df_edited[(df_edited['Sex'] == 'female')].shape[0]\n",
    "sobreviventes_homens = df_edited[ (df_edited['Sex'] == 'male') & (df_edited['Survived'] == 1)].groupby('Sex').count()['Survived']\n",
    "sobreviventes_mulheres = df_edited[ (df_edited['Sex'] == 'female') & (df_edited['Survived'] == 1)].groupby('Sex').count()['Survived']\n",
    "\n",
    "print('\\nQuantidade de passageiros por sexo: \\n\\nHomens: \\t{} \\nMulheres: \\t{}\\n'\n",
    "      .format( total_homens, total_mulheres) )\n",
    "\n",
    "print('\\nQuantidade de sobreviventes por sexo: \\n\\nHomens: \\t{} \\nMulheres: \\t{}\\n'\n",
    "      .format( sobreviventes_homens[0], sobreviventes_mulheres[0]) )\n",
    "\n",
    "print('Porcentagem de sobreviventes por sexo:\\n\\nHomens: \\t{}%\\nMulheres: \\t{}%\\n'.\n",
    "     format(calcula_porcentagem(sobreviventes_homens[0], total_homens), \n",
    "            calcula_porcentagem(sobreviventes_mulheres[0], total_mulheres)))"
   ]
  },
  {
   "cell_type": "markdown",
   "metadata": {},
   "source": [
    "Com isso, reparamos que quase 75% das mulheres conseguiram se salvar no desastre, enquanto aproximadamente 19% dos homens sobreviveram. Já havíamos visto acima, também, que apenas por volta de 58% das crianças conseguiram sobreviver:"
   ]
  },
  {
   "cell_type": "code",
   "execution_count": 19,
   "metadata": {
    "scrolled": true
   },
   "outputs": [
    {
     "name": "stdout",
     "output_type": "stream",
     "text": [
      "\n",
      "Do total de 78 crianças, apenas 45 sobreviveram.\n",
      "\n"
     ]
    }
   ],
   "source": [
    "total_criancas = df_criancas.shape[0]\n",
    "sobreviventes_criancas = sobreviventes_faixa[1]\n",
    "print('\\nDo total de {} crianças, apenas {} sobreviveram.\\n'\n",
    "      .format( total_criancas,  sobreviventes_criancas) )"
   ]
  },
  {
   "cell_type": "markdown",
   "metadata": {},
   "source": [
    "Interessante notar que a porcentagem de crianças salvas foi inferior à porcentagem de mulheres salvas. Sabe-se que, em casos de graves acidentes como o do Titanic, a preferência se dá a mulheres e crianças, e neste caso a regra teria sido mantida no caso das mulheres, mas não necessariamente das crianças (quando comparadas às mulheres). Mas existe um problema neste nosso pensamento: para chegar a uma conclusão, temos de avaliar quantas são as crianças dentro do grupo de mulheres, para então recalcularmos a taxa de mulheres sobreviventes e então compará-las às crianças:"
   ]
  },
  {
   "cell_type": "code",
   "execution_count": 20,
   "metadata": {},
   "outputs": [
    {
     "name": "stdout",
     "output_type": "stream",
     "text": [
      "\n",
      "A quantidade de mulheres sobreviventes acima da idade de 14 anos é de 209.\n",
      "\n",
      "A porcentagem de mulheres (não crianças) atualizada é de 66.56%.\n",
      "\n"
     ]
    }
   ],
   "source": [
    "mulheres_nao_criancas = df_edited[(df_edited['Survived']==1)&(df_edited['Sex']=='female')&(df_edited['Age'] > 14)]\n",
    "qtd_mulheres_nao_criancas = mulheres_nao_criancas.count()['Sex']\n",
    "\n",
    "print('\\nA quantidade de mulheres sobreviventes acima da idade de 14 anos é de {}.'.\n",
    "      format(qtd_mulheres_nao_criancas))\n",
    "      \n",
    "print('\\nA porcentagem de mulheres (não crianças) atualizada é de {}%.\\n'\n",
    "      .format(calcula_porcentagem(qtd_mulheres_nao_criancas, total_mulheres)))"
   ]
  },
  {
   "cell_type": "markdown",
   "metadata": {},
   "source": [
    "Conforme verificado, a porcentagem de mulheres, com o cálculo desconsiderando crianças do sexo feminino, baixou para 66,56%, aproximando-se mais da porcentagem de crianças sobreviventes, mas mesmo assim acima. Pensando nesta taxa de crianças sobreviventes inferior à de mulheres, queremos agora comparar também a porcentagem de mulheres e crianças sobreviventes por classe, para ver se houve algum tipo de privilégio ou prejuízo:"
   ]
  },
  {
   "cell_type": "code",
   "execution_count": 21,
   "metadata": {},
   "outputs": [
    {
     "name": "stdout",
     "output_type": "stream",
     "text": [
      "\n",
      "Havia 94 mulheres na primeira classe, 76 na segunda e 144 terceira:\n",
      "\n"
     ]
    },
    {
     "data": {
      "image/png": "[encoded data removed]",
      "text/plain": [
       "<Figure size 432x288 with 1 Axes>"
      ]
     },
     "metadata": {},
     "output_type": "display_data"
    }
   ],
   "source": [
    "mulheres_classe = df_edited[ (df_edited['Sex'] == 'female') ].groupby('Pclass')\n",
    "sobre_mulheres_classe = df_edited[ (df_edited['Sex'] == 'female') & (df_edited['Survived'] == 1)].groupby('Pclass')\n",
    "\n",
    "print('\\nHavia {} mulheres na primeira classe, {} na segunda e {} terceira:\\n'.\n",
    "     format(mulheres_classe['Pclass'].count()[1], mulheres_classe['Pclass'].count()[2], mulheres_classe['Pclass'].count()[3]))\n",
    "\n",
    "classes = [1, 2, 3]\n",
    "heights = [mulheres_classe['Pclass'].count()[1], mulheres_classe['Pclass'].count()[2], mulheres_classe['Pclass'].count()[3]]\n",
    "labels = ['1ª', '2ª', '3ª']\n",
    "plt.bar(classes, heights, tick_label=labels)\n",
    "plt.title('Qtd de mulheres por classe')\n",
    "plt.xlabel('Classes')\n",
    "plt.ylabel('Quantidade');\n",
    "\n"
   ]
  },
  {
   "cell_type": "code",
   "execution_count": 22,
   "metadata": {},
   "outputs": [
    {
     "name": "stdout",
     "output_type": "stream",
     "text": [
      "\n",
      "Dessas, sobreviveram 91 mulheres da primeira, 70 da segunda e 72 da terceira classes:\n",
      "\n"
     ]
    },
    {
     "data": {
      "image/png": "[encoded data removed]",
      "text/plain": [
       "<Figure size 432x288 with 1 Axes>"
      ]
     },
     "metadata": {},
     "output_type": "display_data"
    }
   ],
   "source": [
    "print('\\nDessas, sobreviveram {} mulheres da primeira, {} da segunda e {} da terceira classes:\\n'.\n",
    "     format(sobre_mulheres_classe['Pclass'].count()[1], sobre_mulheres_classe['Pclass'].count()[2], sobre_mulheres_classe['Pclass'].count()[3]))\n",
    "\n",
    "classes = [1, 2, 3]\n",
    "heights = [sobre_mulheres_classe['Pclass'].count()[1], sobre_mulheres_classe['Pclass'].count()[2], sobre_mulheres_classe['Pclass'].count()[3]]\n",
    "labels = ['1ª', '2ª', '3ª']\n",
    "plt.bar(classes, heights, tick_label=labels)\n",
    "plt.title('Qtd de mulheres sobreviventes por classe')\n",
    "plt.xlabel('Classes')\n",
    "plt.ylabel('Quantidade');"
   ]
  },
  {
   "cell_type": "markdown",
   "metadata": {},
   "source": [
    "A diferença de mulheres sobreviventes entre classes permite concluir que as mulheres da primeira classe foram bastante privilegiadas em detrimento das mulheres da terceira classe. Isso, por óbvio, não significa afirmar que houve um privilégio deliberado em relação às pessoas mais ricas que podiam pagar por melhores lugares no navio. Por exemplo, pode-se pensar que as pessoas da terceira classe, por estarem hospedadas nas partes mais inferiores do navio, não tiveram tempo para subir em direção aos botes salva-vidas (conforme visto anteriormente, apenas 24% dos passageiros da terceira classe conseguiram sobreviver). A seguir, vejamos as crianças em relação a suas respectivas classes:"
   ]
  },
  {
   "cell_type": "code",
   "execution_count": 23,
   "metadata": {},
   "outputs": [
    {
     "name": "stdout",
     "output_type": "stream",
     "text": [
      "\n",
      "Havia 5 crianças na primeira classe, 19 na segunda e 54 terceira:\n",
      "\n"
     ]
    },
    {
     "data": {
      "image/png": "[encoded data removed]",
      "text/plain": [
       "<Figure size 432x288 with 1 Axes>"
      ]
     },
     "metadata": {},
     "output_type": "display_data"
    }
   ],
   "source": [
    "criancas_classe = df_edited[ (df_edited['Age_range'] == 'child') ].groupby('Pclass')\n",
    "sobre_criancas_classe = df_edited[ (df_edited['Age_range'] == 'child') & (df_edited['Survived'] == 1)].groupby('Pclass')\n",
    "\n",
    "print('\\nHavia {} crianças na primeira classe, {} na segunda e {} terceira:\\n'.\n",
    "     format(criancas_classe['Pclass'].count()[1], criancas_classe['Pclass'].count()[2], criancas_classe['Pclass'].count()[3]))\n",
    "\n",
    "classes = [1, 2, 3]\n",
    "heights = [criancas_classe['Pclass'].count()[1], criancas_classe['Pclass'].count()[2], criancas_classe['Pclass'].count()[3]]\n",
    "labels = ['1ª', '2ª', '3ª']\n",
    "plt.bar(classes, heights, tick_label=labels)\n",
    "plt.title('Qtd de crianças por classe')\n",
    "plt.xlabel('Classes')\n",
    "plt.ylabel('Quantidade');"
   ]
  },
  {
   "cell_type": "code",
   "execution_count": 24,
   "metadata": {},
   "outputs": [
    {
     "name": "stdout",
     "output_type": "stream",
     "text": [
      "\n",
      "Dessas, sobreviveram 4 crianças da primeira, 19 da segunda e 22 da terceira classes:\n",
      "\n"
     ]
    },
    {
     "data": {
      "image/png": "[encoded data removed]",
      "text/plain": [
       "<Figure size 432x288 with 1 Axes>"
      ]
     },
     "metadata": {},
     "output_type": "display_data"
    }
   ],
   "source": [
    "sobre_criancas_classe\n",
    "print('\\nDessas, sobreviveram {} crianças da primeira, {} da segunda e {} da terceira classes:\\n'.\n",
    "     format(sobre_criancas_classe['Pclass'].count()[1], \n",
    "            sobre_criancas_classe['Pclass'].count()[2], \n",
    "            sobre_criancas_classe['Pclass'].count()[3]))\n",
    "\n",
    "classes = [1, 2, 3]\n",
    "heights = [sobre_criancas_classe['Pclass'].count()[1], sobre_criancas_classe['Pclass'].count()[2], sobre_criancas_classe['Pclass'].count()[3]]\n",
    "labels = ['1ª', '2ª', '3ª']\n",
    "plt.bar(classes, heights, tick_label=labels)\n",
    "plt.title('Qtd de crianças sobreviventes por classe')\n",
    "plt.xlabel('Classes')\n",
    "plt.ylabel('Quantidade');"
   ]
  },
  {
   "cell_type": "markdown",
   "metadata": {},
   "source": [
    "Na comparação entre os dois gráficos, vemos que apenas uma criança (de cinco), da primeira classe, foi salva; todas as crianças da segunda classe conseguiram se salvar e apenas 22 de 54 da terceira sobreviveram."
   ]
  },
  {
   "cell_type": "markdown",
   "metadata": {},
   "source": [
    "#### Conclusões"
   ]
  },
  {
   "cell_type": "markdown",
   "metadata": {},
   "source": [
    "Por fim, podemos concluir que mulheres e crianças foram priorizadas em relação a homens e idosos, mas crianças foram ligeiramente preteridas em relação a mulheres. Além disso, numa comparação de classes em que mulheres se encontravam, pudemos visualizar uma grande diferença entre as mulheres salvas da primeira e da segunda classe em relação àquelas da terceira. E quanto às crianças, vimos que havia cinco crianças na primeira classe e apenas uma sobreviveu, mas na segunda todas conseguiram sair com vida do navio. A preferência, aparentemente, foi dada às duas primeiras classes, mas, por motivos que desconhecemos, quatro crianças da primeira classe foram vítimas do acidente. Na terceira classe, infelizmente, apenas 22 crianças foram salvas (menos da metade ali presentes)."
   ]
  },
  {
   "cell_type": "markdown",
   "metadata": {},
   "source": [
    "Muitas eram as perguntas possíveis que gostaríamos de continuar a responder, tais como: as crianças que morreram tinham parentes? Eles também morreram? É possível descobrir se uma pessoa é parente de outra a partir do sobrenome? E muitas outras questões que foram surgindo e aguçaram nossa curiosidade. Pretendemos, num futuro próximo, tratar de muitos outros pontos, devido à multiplicidade de questões que um dataset, inicialmente tão simples, pode nos fornecer."
   ]
  },
  {
   "cell_type": "markdown",
   "metadata": {},
   "source": [
    "#### Limitações"
   ]
  },
  {
   "cell_type": "markdown",
   "metadata": {},
   "source": [
    "Como observado durante à exploração dos dados no início deste projeto, havia colunas com valores vazios: 'Age', 'Cabin' e 'Embarked'. Os dados faltantes de 'Cabin' e 'Embarked' não foram tratados nesta presente análise; lidamos apenas com 'Age', cuja completude de dados era essencial para nossa análise. Dessa forma, utilizamos o valor médio da idade para preencher os dados que faltavam na coluna 'Age'.\n",
    "Além disso, a fim de facilitar a visualização das idades, sugerimos e aplicamos uma divisão em quatro categorias de idade:\n",
    "- Crianças (0-14)\n",
    "- Jovens (15-29)\n",
    "- Adultos (30-59)\n",
    "- Idosos (acima de 60)\n",
    "\n",
    "Logo depois, editamos o dataframe para incluir uma nova coluna, chamada 'Age_range', com os valores 'child', 'teen', 'adult' e 'elder', todos relacionados às suas respectivas faixas etárias."
   ]
  }
 ],
 "metadata": {
  "kernelspec": {
   "display_name": "Python 3",
   "language": "python",
   "name": "python3"
  },
  "language_info": {
   "codemirror_mode": {
    "name": "ipython",
    "version": 3
   },
   "file_extension": ".py",
   "mimetype": "text/x-python",
   "name": "python",
   "nbconvert_exporter": "python",
   "pygments_lexer": "ipython3",
   "version": "3.6.5"
  }
 },
 "nbformat": 4,
 "nbformat_minor": 2
}
